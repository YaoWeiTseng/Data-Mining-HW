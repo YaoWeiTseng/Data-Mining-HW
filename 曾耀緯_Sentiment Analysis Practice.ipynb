{
 "cells": [
  {
   "cell_type": "code",
   "execution_count": 1,
   "metadata": {},
   "outputs": [],
   "source": [
    "import pandas as pd\n",
    "import numpy as np\n",
    "import operator\n",
    "from sklearn.feature_extraction.text import CountVectorizer\n",
    "from sklearn.feature_extraction.text import TfidfTransformer\n",
    "from sklearn.ensemble import AdaBoostClassifier\n",
    "from sklearn.metrics import classification_report\n",
    "import xgboost as xgb\n",
    "\n",
    "#讀檔\n",
    "f = open('training_label.txt', mode='r', encoding='utf-8')\n",
    "f2 = open('testing_label.txt', mode='r', encoding='utf-8')\n",
    "\n",
    "x = []\n",
    "train = []\n",
    "test = []\n",
    "\n",
    "#train傳換為list(2維)，且只取前10000筆\n",
    "for line in f:\n",
    "     x.append(line.strip('\\n'))\n",
    "for i in range(10000):\n",
    "    train.append(x[i].split(' +++$+++ '))\n",
    "\n",
    "#test傳換為list(2維)    \n",
    "for line in f2:\n",
    "    if line == '\\n':\n",
    "        continue\n",
    "    test.append(line.strip('\\n').split('#####'))\n",
    "    \n",
    "#以下為list的降維：\n",
    "#list轉str\n",
    "temp1 = str(train)\n",
    "#替換'[' ']'\n",
    "temp1 = temp1.replace('[','')\n",
    "temp1 = temp1.replace(']','')\n",
    "#轉list\n",
    "train = list(eval(temp1))\n",
    "\n",
    "#test同上\n",
    "temp2 = str(test)\n",
    "temp2 = temp2.replace('[','')\n",
    "temp2 = temp2.replace(']','')\n",
    "test = list(eval(temp2))\n"
   ]
  },
  {
   "cell_type": "code",
   "execution_count": 2,
   "metadata": {},
   "outputs": [
    {
     "data": {
      "text/html": [
       "<div>\n",
       "<style scoped>\n",
       "    .dataframe tbody tr th:only-of-type {\n",
       "        vertical-align: middle;\n",
       "    }\n",
       "\n",
       "    .dataframe tbody tr th {\n",
       "        vertical-align: top;\n",
       "    }\n",
       "\n",
       "    .dataframe thead th {\n",
       "        text-align: right;\n",
       "    }\n",
       "</style>\n",
       "<table border=\"1\" class=\"dataframe\">\n",
       "  <thead>\n",
       "    <tr style=\"text-align: right;\">\n",
       "      <th></th>\n",
       "      <th>emotion</th>\n",
       "      <th>words</th>\n",
       "    </tr>\n",
       "  </thead>\n",
       "  <tbody>\n",
       "    <tr>\n",
       "      <td>0</td>\n",
       "      <td>1</td>\n",
       "      <td>are wtf ... awww thanks !</td>\n",
       "    </tr>\n",
       "    <tr>\n",
       "      <td>1</td>\n",
       "      <td>1</td>\n",
       "      <td>leavingg to wait for kaysie to arrive myspacin...</td>\n",
       "    </tr>\n",
       "    <tr>\n",
       "      <td>2</td>\n",
       "      <td>0</td>\n",
       "      <td>i wish i could go and see duffy when she comes...</td>\n",
       "    </tr>\n",
       "    <tr>\n",
       "      <td>3</td>\n",
       "      <td>1</td>\n",
       "      <td>i know eep ! i can ' t wait for one more day ....</td>\n",
       "    </tr>\n",
       "    <tr>\n",
       "      <td>4</td>\n",
       "      <td>0</td>\n",
       "      <td>so scared and feeling sick . fuck ! hope someo...</td>\n",
       "    </tr>\n",
       "    <tr>\n",
       "      <td>...</td>\n",
       "      <td>...</td>\n",
       "      <td>...</td>\n",
       "    </tr>\n",
       "    <tr>\n",
       "      <td>9995</td>\n",
       "      <td>0</td>\n",
       "      <td>i know the feeling !! but don ' t be hun ! eve...</td>\n",
       "    </tr>\n",
       "    <tr>\n",
       "      <td>9996</td>\n",
       "      <td>1</td>\n",
       "      <td>i was just asked today if i was a conservative...</td>\n",
       "    </tr>\n",
       "    <tr>\n",
       "      <td>9997</td>\n",
       "      <td>0</td>\n",
       "      <td>cubs white soxs game rained out ... of all nig...</td>\n",
       "    </tr>\n",
       "    <tr>\n",
       "      <td>9998</td>\n",
       "      <td>1</td>\n",
       "      <td>props to your mom she did a great job !</td>\n",
       "    </tr>\n",
       "    <tr>\n",
       "      <td>9999</td>\n",
       "      <td>0</td>\n",
       "      <td>ooo sorry to hear</td>\n",
       "    </tr>\n",
       "  </tbody>\n",
       "</table>\n",
       "<p>10000 rows × 2 columns</p>\n",
       "</div>"
      ],
      "text/plain": [
       "     emotion                                              words\n",
       "0          1                          are wtf ... awww thanks !\n",
       "1          1  leavingg to wait for kaysie to arrive myspacin...\n",
       "2          0  i wish i could go and see duffy when she comes...\n",
       "3          1  i know eep ! i can ' t wait for one more day ....\n",
       "4          0  so scared and feeling sick . fuck ! hope someo...\n",
       "...      ...                                                ...\n",
       "9995       0  i know the feeling !! but don ' t be hun ! eve...\n",
       "9996       1  i was just asked today if i was a conservative...\n",
       "9997       0  cubs white soxs game rained out ... of all nig...\n",
       "9998       1            props to your mom she did a great job !\n",
       "9999       0                                  ooo sorry to hear\n",
       "\n",
       "[10000 rows x 2 columns]"
      ]
     },
     "execution_count": 2,
     "metadata": {},
     "output_type": "execute_result"
    }
   ],
   "source": [
    "#將train的label與data分成2 list\n",
    "train_emotion = []\n",
    "train_words = []\n",
    "for i in range(20000):\n",
    "    if (i%2 == 0):\n",
    "        train_emotion.append(train[i])\n",
    "    else:\n",
    "        train_words.append(train[i])\n",
    "#Dataframe\n",
    "df_train = pd.DataFrame(list(zip(train_emotion, train_words)), columns =['emotion', 'words'])\n",
    "df_train"
   ]
  },
  {
   "cell_type": "code",
   "execution_count": 3,
   "metadata": {},
   "outputs": [
    {
     "data": {
      "text/html": [
       "<div>\n",
       "<style scoped>\n",
       "    .dataframe tbody tr th:only-of-type {\n",
       "        vertical-align: middle;\n",
       "    }\n",
       "\n",
       "    .dataframe tbody tr th {\n",
       "        vertical-align: top;\n",
       "    }\n",
       "\n",
       "    .dataframe thead th {\n",
       "        text-align: right;\n",
       "    }\n",
       "</style>\n",
       "<table border=\"1\" class=\"dataframe\">\n",
       "  <thead>\n",
       "    <tr style=\"text-align: right;\">\n",
       "      <th></th>\n",
       "      <th>emotion</th>\n",
       "      <th>words</th>\n",
       "    </tr>\n",
       "  </thead>\n",
       "  <tbody>\n",
       "    <tr>\n",
       "      <td>0</td>\n",
       "      <td>0</td>\n",
       "      <td>don ' t you hate it when you hang on to a seem...</td>\n",
       "    </tr>\n",
       "    <tr>\n",
       "      <td>1</td>\n",
       "      <td>0</td>\n",
       "      <td>ok so never went to the movies because friend ...</td>\n",
       "    </tr>\n",
       "    <tr>\n",
       "      <td>2</td>\n",
       "      <td>1</td>\n",
       "      <td>can ' t wait to see diversity ' s performance !</td>\n",
       "    </tr>\n",
       "    <tr>\n",
       "      <td>3</td>\n",
       "      <td>1</td>\n",
       "      <td>i love britney spears haha joey this is what u...</td>\n",
       "    </tr>\n",
       "    <tr>\n",
       "      <td>4</td>\n",
       "      <td>1</td>\n",
       "      <td>1 more day !</td>\n",
       "    </tr>\n",
       "    <tr>\n",
       "      <td>...</td>\n",
       "      <td>...</td>\n",
       "      <td>...</td>\n",
       "    </tr>\n",
       "    <tr>\n",
       "      <td>85</td>\n",
       "      <td>1</td>\n",
       "      <td>shower time !!! then more shopping for my new ...</td>\n",
       "    </tr>\n",
       "    <tr>\n",
       "      <td>86</td>\n",
       "      <td>1</td>\n",
       "      <td>awwwwww too cute ! makes me miss my westie bac...</td>\n",
       "    </tr>\n",
       "    <tr>\n",
       "      <td>87</td>\n",
       "      <td>0</td>\n",
       "      <td>thanks . lol . sadly i am 31 !! waaahhhhh</td>\n",
       "    </tr>\n",
       "    <tr>\n",
       "      <td>88</td>\n",
       "      <td>1</td>\n",
       "      <td>thanks ! i am listening to her on lala . com r...</td>\n",
       "    </tr>\n",
       "    <tr>\n",
       "      <td>89</td>\n",
       "      <td>0</td>\n",
       "      <td>monday ! whoo hooo ! why am i so excited ? mig...</td>\n",
       "    </tr>\n",
       "  </tbody>\n",
       "</table>\n",
       "<p>90 rows × 2 columns</p>\n",
       "</div>"
      ],
      "text/plain": [
       "   emotion                                              words\n",
       "0        0  don ' t you hate it when you hang on to a seem...\n",
       "1        0  ok so never went to the movies because friend ...\n",
       "2        1    can ' t wait to see diversity ' s performance !\n",
       "3        1  i love britney spears haha joey this is what u...\n",
       "4        1                                       1 more day !\n",
       "..     ...                                                ...\n",
       "85       1  shower time !!! then more shopping for my new ...\n",
       "86       1  awwwwww too cute ! makes me miss my westie bac...\n",
       "87       0          thanks . lol . sadly i am 31 !! waaahhhhh\n",
       "88       1  thanks ! i am listening to her on lala . com r...\n",
       "89       0  monday ! whoo hooo ! why am i so excited ? mig...\n",
       "\n",
       "[90 rows x 2 columns]"
      ]
     },
     "execution_count": 3,
     "metadata": {},
     "output_type": "execute_result"
    }
   ],
   "source": [
    "#將test的label與data分成2 list\n",
    "test_emotion = []\n",
    "test_words = []\n",
    "for i in range(180):\n",
    "    if (i%2 == 0):\n",
    "        test_emotion.append(test[i])\n",
    "    else:\n",
    "        test_words.append(test[i])\n",
    "#Dataframe        \n",
    "df_test = pd.DataFrame(list(zip(test_emotion, test_words)), columns =['emotion', 'words'])\n",
    "df_test"
   ]
  },
  {
   "cell_type": "code",
   "execution_count": 14,
   "metadata": {},
   "outputs": [
    {
     "name": "stdout",
     "output_type": "stream",
     "text": [
      "[[0 0 0 ... 0 0 0]\n",
      " [0 0 0 ... 0 0 0]\n",
      " [0 0 0 ... 0 0 0]\n",
      " ...\n",
      " [0 0 0 ... 0 0 0]\n",
      " [0 0 0 ... 0 0 0]\n",
      " [0 0 0 ... 0 0 0]]\n"
     ]
    }
   ],
   "source": [
    "#去除停用字，停用字庫網路搜尋而得\n",
    "words = train_words+test_words\n",
    "stopwords=[\"i\", \"me\", \"my\", \"myself\", \"we\", \"our\", \"ours\", \"ourselves\", \"you\", \"your\", \"yours\", \"yourself\", \"yourselves\", \"he\", \"him\", \"his\", \"himself\", \"she\", \"her\", \"hers\", \"herself\", \"it\", \"its\", \"itself\", \"they\", \"them\", \"their\", \"theirs\", \"themselves\", \"what\", \"which\", \"who\", \"whom\", \"this\", \"that\", \"these\", \"those\", \"am\", \"is\", \"are\", \"was\", \"were\", \"be\", \"been\", \"being\", \"have\", \"has\", \"had\", \"having\", \"do\", \"does\", \"did\", \"doing\", \"a\", \"an\", \"the\", \"and\", \"but\", \"if\", \"or\", \"because\", \"as\", \"until\", \"while\", \"of\", \"at\", \"by\", \"for\", \"with\", \"about\", \"against\", \"between\", \"into\", \"through\", \"during\", \"before\", \"after\", \"above\", \"below\", \"to\", \"from\", \"up\", \"down\", \"in\", \"out\", \"on\", \"off\", \"over\", \"under\", \"again\", \"further\", \"then\", \"once\", \"here\", \"there\", \"when\", \"where\", \"why\", \"how\", \"all\", \"any\", \"both\", \"each\", \"few\", \"more\", \"most\", \"other\", \"some\", \"such\", \"no\", \"nor\", \"not\", \"only\", \"own\", \"same\", \"so\", \"than\", \"too\", \"very\", \"s\", \"t\", \"can\", \"will\", \"just\", \"don\", \"should\", \"now\", \"ah\", \"20\", \"5977\", \"0347\", \"18\", \"any\", \"70\"]\n",
    "cv = CountVectorizer(stop_words=stopwords) #將文字中的詞語轉換為詞頻矩陣 \n",
    "x_train = cv.fit_transform(words) #計算個詞語出現的次數\n",
    "print(x_train.toarray())"
   ]
  },
  {
   "cell_type": "code",
   "execution_count": 5,
   "metadata": {},
   "outputs": [
    {
     "data": {
      "text/plain": [
       "array([[0., 0., 0., ..., 0., 0., 0.],\n",
       "       [0., 0., 0., ..., 0., 0., 0.],\n",
       "       [0., 0., 0., ..., 0., 0., 0.],\n",
       "       ...,\n",
       "       [0., 0., 0., ..., 0., 0., 0.],\n",
       "       [0., 0., 0., ..., 0., 0., 0.],\n",
       "       [0., 0., 0., ..., 0., 0., 0.]])"
      ]
     },
     "execution_count": 5,
     "metadata": {},
     "output_type": "execute_result"
    }
   ],
   "source": [
    "#將詞頻矩陣統計成TF-IDF值 \n",
    "transformer = TfidfTransformer()  \n",
    "x_tfidf = transformer.fit_transform(x_train)   \n",
    "x_tfidf = x_tfidf.toarray()\n",
    "x_tfidf"
   ]
  },
  {
   "cell_type": "code",
   "execution_count": 6,
   "metadata": {},
   "outputs": [],
   "source": [
    "#合併train與test的label成為一個list y\n",
    "y = train_emotion + test_emotion"
   ]
  },
  {
   "cell_type": "code",
   "execution_count": 7,
   "metadata": {},
   "outputs": [
    {
     "data": {
      "text/plain": [
       "AdaBoostClassifier(algorithm='SAMME.R', base_estimator=None, learning_rate=1.0,\n",
       "                   n_estimators=100, random_state=0)"
      ]
     },
     "execution_count": 7,
     "metadata": {},
     "output_type": "execute_result"
    }
   ],
   "source": [
    "#用AdaBoost模型建模\n",
    "clf = AdaBoostClassifier(n_estimators=100, random_state=0)\n",
    "clf.fit(x_tfidf, y)  "
   ]
  },
  {
   "cell_type": "code",
   "execution_count": 9,
   "metadata": {},
   "outputs": [
    {
     "name": "stdout",
     "output_type": "stream",
     "text": [
      "AdaBoost模型-\n",
      "Accuracy =  0.7001982160555005\n",
      "              precision    recall  f1-score   support\n",
      "\n",
      "           0       0.76      0.59      0.67        37\n",
      "           1       0.75      0.87      0.81        53\n",
      "\n",
      "    accuracy                           0.76        90\n",
      "   macro avg       0.76      0.73      0.74        90\n",
      "weighted avg       0.76      0.76      0.75        90\n",
      "\n"
     ]
    }
   ],
   "source": [
    "#印出Accuracy、Precision、Recall、F-1分數\n",
    "pred = clf.predict(x_tfidf[10000:10090])#切出label的tfidf做prediction\n",
    "print(\"AdaBoost模型-\")\n",
    "print(classification_report(df_test['emotion'], pred))"
   ]
  },
  {
   "cell_type": "code",
   "execution_count": 12,
   "metadata": {},
   "outputs": [
    {
     "name": "stdout",
     "output_type": "stream",
     "text": [
      "XGBoost模型-\n",
      "              precision    recall  f1-score   support\n",
      "\n",
      "           0       0.73      0.51      0.60        37\n",
      "           1       0.72      0.87      0.79        53\n",
      "\n",
      "    accuracy                           0.72        90\n",
      "   macro avg       0.72      0.69      0.69        90\n",
      "weighted avg       0.72      0.72      0.71        90\n",
      "\n"
     ]
    }
   ],
   "source": [
    "#用XGboost模型建模並印出Accuracy、Precision、Recall、F-1分數\n",
    "from xgboost import XGBClassifier\n",
    "XGB = XGBClassifier()\n",
    "XGB.fit(x_tfidf, y)\n",
    "pred = XGB.predict(x_tfidf[10000:10090])#切出label的tfidf做prediction\n",
    "print(\"XGBoost模型-\")\n",
    "print(classification_report(df_test['emotion'], pred))"
   ]
  },
  {
   "cell_type": "code",
   "execution_count": null,
   "metadata": {},
   "outputs": [],
   "source": []
  }
 ],
 "metadata": {
  "kernelspec": {
   "display_name": "Python 3",
   "language": "python",
   "name": "python3"
  },
  "language_info": {
   "codemirror_mode": {
    "name": "ipython",
    "version": 3
   },
   "file_extension": ".py",
   "mimetype": "text/x-python",
   "name": "python",
   "nbconvert_exporter": "python",
   "pygments_lexer": "ipython3",
   "version": "3.7.3"
  }
 },
 "nbformat": 4,
 "nbformat_minor": 2
}
